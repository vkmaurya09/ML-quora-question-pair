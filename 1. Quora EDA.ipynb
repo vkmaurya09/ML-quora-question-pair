{
 "cells": [
  {
   "cell_type": "code",
   "execution_count": 1,
   "id": "91d32989",
   "metadata": {},
   "outputs": [],
   "source": [
    "import numpy as np\n",
    "import pandas as pd\n",
    "import matplotlib.pyplot as plt\n",
    "import seaborn as sns\n",
    "import warnings\n",
    "warnings.filterwarnings('ignore')"
   ]
  },
  {
   "cell_type": "code",
   "execution_count": 2,
   "id": "4047cfb2",
   "metadata": {},
   "outputs": [
    {
     "data": {
      "text/html": [
       "<div>\n",
       "<style scoped>\n",
       "    .dataframe tbody tr th:only-of-type {\n",
       "        vertical-align: middle;\n",
       "    }\n",
       "\n",
       "    .dataframe tbody tr th {\n",
       "        vertical-align: top;\n",
       "    }\n",
       "\n",
       "    .dataframe thead th {\n",
       "        text-align: right;\n",
       "    }\n",
       "</style>\n",
       "<table border=\"1\" class=\"dataframe\">\n",
       "  <thead>\n",
       "    <tr style=\"text-align: right;\">\n",
       "      <th></th>\n",
       "      <th>id</th>\n",
       "      <th>qid1</th>\n",
       "      <th>qid2</th>\n",
       "      <th>question1</th>\n",
       "      <th>question2</th>\n",
       "      <th>is_duplicate</th>\n",
       "    </tr>\n",
       "  </thead>\n",
       "  <tbody>\n",
       "    <tr>\n",
       "      <th>0</th>\n",
       "      <td>0</td>\n",
       "      <td>1</td>\n",
       "      <td>2</td>\n",
       "      <td>What is the step by step guide to invest in sh...</td>\n",
       "      <td>What is the step by step guide to invest in sh...</td>\n",
       "      <td>0</td>\n",
       "    </tr>\n",
       "    <tr>\n",
       "      <th>1</th>\n",
       "      <td>1</td>\n",
       "      <td>3</td>\n",
       "      <td>4</td>\n",
       "      <td>What is the story of Kohinoor (Koh-i-Noor) Dia...</td>\n",
       "      <td>What would happen if the Indian government sto...</td>\n",
       "      <td>0</td>\n",
       "    </tr>\n",
       "    <tr>\n",
       "      <th>2</th>\n",
       "      <td>2</td>\n",
       "      <td>5</td>\n",
       "      <td>6</td>\n",
       "      <td>How can I increase the speed of my internet co...</td>\n",
       "      <td>How can Internet speed be increased by hacking...</td>\n",
       "      <td>0</td>\n",
       "    </tr>\n",
       "    <tr>\n",
       "      <th>3</th>\n",
       "      <td>3</td>\n",
       "      <td>7</td>\n",
       "      <td>8</td>\n",
       "      <td>Why am I mentally very lonely? How can I solve...</td>\n",
       "      <td>Find the remainder when [math]23^{24}[/math] i...</td>\n",
       "      <td>0</td>\n",
       "    </tr>\n",
       "    <tr>\n",
       "      <th>4</th>\n",
       "      <td>4</td>\n",
       "      <td>9</td>\n",
       "      <td>10</td>\n",
       "      <td>Which one dissolve in water quikly sugar, salt...</td>\n",
       "      <td>Which fish would survive in salt water?</td>\n",
       "      <td>0</td>\n",
       "    </tr>\n",
       "  </tbody>\n",
       "</table>\n",
       "</div>"
      ],
      "text/plain": [
       "   id  qid1  qid2                                          question1  \\\n",
       "0   0     1     2  What is the step by step guide to invest in sh...   \n",
       "1   1     3     4  What is the story of Kohinoor (Koh-i-Noor) Dia...   \n",
       "2   2     5     6  How can I increase the speed of my internet co...   \n",
       "3   3     7     8  Why am I mentally very lonely? How can I solve...   \n",
       "4   4     9    10  Which one dissolve in water quikly sugar, salt...   \n",
       "\n",
       "                                           question2  is_duplicate  \n",
       "0  What is the step by step guide to invest in sh...             0  \n",
       "1  What would happen if the Indian government sto...             0  \n",
       "2  How can Internet speed be increased by hacking...             0  \n",
       "3  Find the remainder when [math]23^{24}[/math] i...             0  \n",
       "4            Which fish would survive in salt water?             0  "
      ]
     },
     "execution_count": 2,
     "metadata": {},
     "output_type": "execute_result"
    }
   ],
   "source": [
    "df = pd.read_csv(\"train.csv\")\n",
    "df.head()"
   ]
  },
  {
   "cell_type": "code",
   "execution_count": 3,
   "id": "beaf14bb",
   "metadata": {},
   "outputs": [
    {
     "data": {
      "text/plain": [
       "(404290, 6)"
      ]
     },
     "execution_count": 3,
     "metadata": {},
     "output_type": "execute_result"
    }
   ],
   "source": [
    "df.shape"
   ]
  },
  {
   "cell_type": "code",
   "execution_count": 4,
   "id": "9c0168d5",
   "metadata": {},
   "outputs": [
    {
     "data": {
      "text/html": [
       "<div>\n",
       "<style scoped>\n",
       "    .dataframe tbody tr th:only-of-type {\n",
       "        vertical-align: middle;\n",
       "    }\n",
       "\n",
       "    .dataframe tbody tr th {\n",
       "        vertical-align: top;\n",
       "    }\n",
       "\n",
       "    .dataframe thead th {\n",
       "        text-align: right;\n",
       "    }\n",
       "</style>\n",
       "<table border=\"1\" class=\"dataframe\">\n",
       "  <thead>\n",
       "    <tr style=\"text-align: right;\">\n",
       "      <th></th>\n",
       "      <th>id</th>\n",
       "      <th>qid1</th>\n",
       "      <th>qid2</th>\n",
       "      <th>question1</th>\n",
       "      <th>question2</th>\n",
       "      <th>is_duplicate</th>\n",
       "    </tr>\n",
       "  </thead>\n",
       "  <tbody>\n",
       "    <tr>\n",
       "      <th>317577</th>\n",
       "      <td>317577</td>\n",
       "      <td>442802</td>\n",
       "      <td>442803</td>\n",
       "      <td>Is it metabolically advantageous for neurons t...</td>\n",
       "      <td>Can fire start in the body from metabolism?</td>\n",
       "      <td>0</td>\n",
       "    </tr>\n",
       "    <tr>\n",
       "      <th>157687</th>\n",
       "      <td>157687</td>\n",
       "      <td>246498</td>\n",
       "      <td>246499</td>\n",
       "      <td>What is 1?</td>\n",
       "      <td>When does 1 + 1 + 1 = 1?</td>\n",
       "      <td>0</td>\n",
       "    </tr>\n",
       "    <tr>\n",
       "      <th>309155</th>\n",
       "      <td>309155</td>\n",
       "      <td>174839</td>\n",
       "      <td>433104</td>\n",
       "      <td>What do girls do when they are horny?</td>\n",
       "      <td>When do girls get horny?</td>\n",
       "      <td>0</td>\n",
       "    </tr>\n",
       "    <tr>\n",
       "      <th>355246</th>\n",
       "      <td>355246</td>\n",
       "      <td>6799</td>\n",
       "      <td>20672</td>\n",
       "      <td>What are ways I can make money online?</td>\n",
       "      <td>How do you make easy money online?</td>\n",
       "      <td>1</td>\n",
       "    </tr>\n",
       "    <tr>\n",
       "      <th>115628</th>\n",
       "      <td>115628</td>\n",
       "      <td>34041</td>\n",
       "      <td>188522</td>\n",
       "      <td>Could a president run for a third term after t...</td>\n",
       "      <td>If the vice president of the U.S. finishes out...</td>\n",
       "      <td>0</td>\n",
       "    </tr>\n",
       "  </tbody>\n",
       "</table>\n",
       "</div>"
      ],
      "text/plain": [
       "            id    qid1    qid2  \\\n",
       "317577  317577  442802  442803   \n",
       "157687  157687  246498  246499   \n",
       "309155  309155  174839  433104   \n",
       "355246  355246    6799   20672   \n",
       "115628  115628   34041  188522   \n",
       "\n",
       "                                                question1  \\\n",
       "317577  Is it metabolically advantageous for neurons t...   \n",
       "157687                                         What is 1?   \n",
       "309155              What do girls do when they are horny?   \n",
       "355246             What are ways I can make money online?   \n",
       "115628  Could a president run for a third term after t...   \n",
       "\n",
       "                                                question2  is_duplicate  \n",
       "317577        Can fire start in the body from metabolism?             0  \n",
       "157687                           When does 1 + 1 + 1 = 1?             0  \n",
       "309155                           When do girls get horny?             0  \n",
       "355246                 How do you make easy money online?             1  \n",
       "115628  If the vice president of the U.S. finishes out...             0  "
      ]
     },
     "execution_count": 4,
     "metadata": {},
     "output_type": "execute_result"
    }
   ],
   "source": [
    "df.sample(5)"
   ]
  },
  {
   "cell_type": "code",
   "execution_count": 5,
   "id": "86d7954e",
   "metadata": {},
   "outputs": [
    {
     "name": "stdout",
     "output_type": "stream",
     "text": [
      "<class 'pandas.core.frame.DataFrame'>\n",
      "RangeIndex: 404290 entries, 0 to 404289\n",
      "Data columns (total 6 columns):\n",
      " #   Column        Non-Null Count   Dtype \n",
      "---  ------        --------------   ----- \n",
      " 0   id            404290 non-null  int64 \n",
      " 1   qid1          404290 non-null  int64 \n",
      " 2   qid2          404290 non-null  int64 \n",
      " 3   question1     404289 non-null  object\n",
      " 4   question2     404288 non-null  object\n",
      " 5   is_duplicate  404290 non-null  int64 \n",
      "dtypes: int64(4), object(2)\n",
      "memory usage: 18.5+ MB\n"
     ]
    }
   ],
   "source": [
    "df.info()"
   ]
  },
  {
   "cell_type": "code",
   "execution_count": 6,
   "id": "f4c0cb60",
   "metadata": {
    "scrolled": true
   },
   "outputs": [
    {
     "data": {
      "text/plain": [
       "id              0\n",
       "qid1            0\n",
       "qid2            0\n",
       "question1       1\n",
       "question2       2\n",
       "is_duplicate    0\n",
       "dtype: int64"
      ]
     },
     "execution_count": 6,
     "metadata": {},
     "output_type": "execute_result"
    }
   ],
   "source": [
    "#missing value\n",
    "df.isnull().sum()"
   ]
  },
  {
   "cell_type": "code",
   "execution_count": 7,
   "id": "79d21727",
   "metadata": {},
   "outputs": [
    {
     "data": {
      "text/plain": [
       "0"
      ]
     },
     "execution_count": 7,
     "metadata": {},
     "output_type": "execute_result"
    }
   ],
   "source": [
    "# duplicated row check\n",
    "df.duplicated().sum()"
   ]
  },
  {
   "cell_type": "code",
   "execution_count": 8,
   "id": "e187f342",
   "metadata": {},
   "outputs": [
    {
     "data": {
      "text/plain": [
       "0    255027\n",
       "1    149263\n",
       "Name: is_duplicate, dtype: int64"
      ]
     },
     "execution_count": 8,
     "metadata": {},
     "output_type": "execute_result"
    }
   ],
   "source": [
    "# Duplicate Q vs Non duplicate Q\n",
    "df['is_duplicate'].value_counts()"
   ]
  },
  {
   "cell_type": "code",
   "execution_count": 9,
   "id": "d0846db4",
   "metadata": {},
   "outputs": [
    {
     "data": {
      "text/plain": [
       "0    63.080215\n",
       "1    36.919785\n",
       "Name: is_duplicate, dtype: float64"
      ]
     },
     "execution_count": 9,
     "metadata": {},
     "output_type": "execute_result"
    }
   ],
   "source": [
    "# percentage count\n",
    "(df['is_duplicate'].value_counts() / df['is_duplicate'].count())*100"
   ]
  },
  {
   "cell_type": "code",
   "execution_count": 10,
   "id": "f409f4df",
   "metadata": {},
   "outputs": [
    {
     "data": {
      "text/plain": [
       "<AxesSubplot:>"
      ]
     },
     "execution_count": 10,
     "metadata": {},
     "output_type": "execute_result"
    },
    {
     "data": {
      "image/png": "[encoded data removed]",
      "text/plain": [
       "<Figure size 432x288 with 1 Axes>"
      ]
     },
     "metadata": {
      "needs_background": "light"
     },
     "output_type": "display_data"
    }
   ],
   "source": [
    "# plot \n",
    "df['is_duplicate'].value_counts().plot(kind='bar')"
   ]
  },
  {
   "cell_type": "code",
   "execution_count": 11,
   "id": "022f63d0",
   "metadata": {},
   "outputs": [
    {
     "name": "stdout",
     "output_type": "stream",
     "text": [
      "Total unique questions :  537933\n",
      "Total repeated questions :  111780\n"
     ]
    }
   ],
   "source": [
    "# unique and repeated Q\n",
    "Qids = pd.Series(df['qid1'].tolist() + df['qid2'].tolist())\n",
    "uniqueQ = len(np.unique(Qids))\n",
    "repeatedQ = np.sum(Qids.value_counts() > 1)\n",
    "\n",
    "print(\"Total unique questions : \", uniqueQ)\n",
    "\n",
    "print(\"Total repeated questions : \", repeatedQ)"
   ]
  },
  {
   "cell_type": "code",
   "execution_count": 12,
   "id": "3a335a74",
   "metadata": {},
   "outputs": [
    {
     "name": "stdout",
     "output_type": "stream",
     "text": [
      "Maximun number of time single Q repeated count :  157\n"
     ]
    }
   ],
   "source": [
    "# maximun number of time single Q repeated count\n",
    "print(\"Maximun number of time single Q repeated count : \",max(Qids.value_counts()))\n"
   ]
  },
  {
   "cell_type": "code",
   "execution_count": 13,
   "id": "dcff2943",
   "metadata": {},
   "outputs": [
    {
     "data": {
      "text/plain": [
       "<AxesSubplot:>"
      ]
     },
     "execution_count": 13,
     "metadata": {},
     "output_type": "execute_result"
    },
    {
     "data": {
      "image/png": "[encoded data removed]",
      "text/plain": [
       "<Figure size 432x288 with 1 Axes>"
      ]
     },
     "metadata": {
      "needs_background": "light"
     },
     "output_type": "display_data"
    }
   ],
   "source": [
    "# Plot unique vs repeated\n",
    "x = [\"UniqueQ\",\"RepeatedQ\"]\n",
    "y = [uniqueQ,repeatedQ]\n",
    "sns.barplot(x,y)"
   ]
  },
  {
   "cell_type": "code",
   "execution_count": 14,
   "id": "1c0a5bd2",
   "metadata": {},
   "outputs": [
    {
     "data": {
      "text/plain": [
       "Text(0, 0.5, 'Number of Q')"
      ]
     },
     "execution_count": 14,
     "metadata": {},
     "output_type": "execute_result"
    },
    {
     "data": {
      "image/png": "[encoded data removed]",
      "text/plain": [
       "<Figure size 1440x720 with 1 Axes>"
      ]
     },
     "metadata": {
      "needs_background": "light"
     },
     "output_type": "display_data"
    }
   ],
   "source": [
    "QValues = Qids.value_counts()\n",
    "QValues = QValues.values\n",
    "\n",
    "plt.figure(figsize= (20,10))\n",
    "plt.hist(QValues , bins =160 , log = True)\n",
    "plt.title(\"Log histogram of Q appearance counts\")\n",
    "plt.xlabel(\"Number of occurences of Q\")\n",
    "plt.ylabel(\"Number of Q\")"
   ]
  },
  {
   "cell_type": "code",
   "execution_count": 15,
   "id": "ca5bbbae",
   "metadata": {},
   "outputs": [
    {
     "data": {
      "text/plain": [
       "id              0\n",
       "qid1            0\n",
       "qid2            0\n",
       "question1       0\n",
       "question2       0\n",
       "is_duplicate    0\n",
       "dtype: int64"
      ]
     },
     "execution_count": 15,
     "metadata": {},
     "output_type": "execute_result"
    }
   ],
   "source": [
    "# filling null value with \" \"\n",
    "df = df.fillna(\"\")\n",
    "df.isnull().sum()"
   ]
  },
  {
   "cell_type": "code",
   "execution_count": null,
   "id": "07a2aaa0",
   "metadata": {},
   "outputs": [],
   "source": [
    "# # Basic Feature Extraction\n",
    "# freq_q1 = frequency of Q1\n",
    "# freq_q2 = frequency of Q2\n",
    "# q1Len , q2Len = length of Q's\n",
    "# wordsQ1 , wordsQ2 = number of words in Q's\n",
    "# wordCommon = number of common unique words in Q's\n",
    "# wordTotal = number of words in Q's\n",
    "# wordShare = wordCommon/wordTotal\n",
    "# SumFreq = Sum of freq_q1 + freq_q2\n",
    "# FreqDiff = diff btw Q1 , Q2\n"
   ]
  },
  {
   "cell_type": "code",
   "execution_count": 17,
   "id": "a2cf9ec2",
   "metadata": {},
   "outputs": [
    {
     "data": {
      "text/html": [
       "<div>\n",
       "<style scoped>\n",
       "    .dataframe tbody tr th:only-of-type {\n",
       "        vertical-align: middle;\n",
       "    }\n",
       "\n",
       "    .dataframe tbody tr th {\n",
       "        vertical-align: top;\n",
       "    }\n",
       "\n",
       "    .dataframe thead th {\n",
       "        text-align: right;\n",
       "    }\n",
       "</style>\n",
       "<table border=\"1\" class=\"dataframe\">\n",
       "  <thead>\n",
       "    <tr style=\"text-align: right;\">\n",
       "      <th></th>\n",
       "      <th>id</th>\n",
       "      <th>qid1</th>\n",
       "      <th>qid2</th>\n",
       "      <th>question1</th>\n",
       "      <th>question2</th>\n",
       "      <th>is_duplicate</th>\n",
       "      <th>freq_q1</th>\n",
       "      <th>freq_q2</th>\n",
       "      <th>q1Len</th>\n",
       "      <th>q2Len</th>\n",
       "      <th>q1_n_words</th>\n",
       "      <th>q2_n_words</th>\n",
       "      <th>wordCommon</th>\n",
       "      <th>wordTotal</th>\n",
       "      <th>wordShare</th>\n",
       "      <th>freq_q1+q2</th>\n",
       "      <th>freq_q1-q2</th>\n",
       "    </tr>\n",
       "  </thead>\n",
       "  <tbody>\n",
       "    <tr>\n",
       "      <th>0</th>\n",
       "      <td>0</td>\n",
       "      <td>1</td>\n",
       "      <td>2</td>\n",
       "      <td>What is the step by step guide to invest in sh...</td>\n",
       "      <td>What is the step by step guide to invest in sh...</td>\n",
       "      <td>0</td>\n",
       "      <td>1</td>\n",
       "      <td>1</td>\n",
       "      <td>66</td>\n",
       "      <td>57</td>\n",
       "      <td>14</td>\n",
       "      <td>12</td>\n",
       "      <td>10.0</td>\n",
       "      <td>23.0</td>\n",
       "      <td>0.434783</td>\n",
       "      <td>2</td>\n",
       "      <td>0</td>\n",
       "    </tr>\n",
       "    <tr>\n",
       "      <th>1</th>\n",
       "      <td>1</td>\n",
       "      <td>3</td>\n",
       "      <td>4</td>\n",
       "      <td>What is the story of Kohinoor (Koh-i-Noor) Dia...</td>\n",
       "      <td>What would happen if the Indian government sto...</td>\n",
       "      <td>0</td>\n",
       "      <td>4</td>\n",
       "      <td>1</td>\n",
       "      <td>51</td>\n",
       "      <td>88</td>\n",
       "      <td>8</td>\n",
       "      <td>13</td>\n",
       "      <td>4.0</td>\n",
       "      <td>20.0</td>\n",
       "      <td>0.200000</td>\n",
       "      <td>5</td>\n",
       "      <td>3</td>\n",
       "    </tr>\n",
       "    <tr>\n",
       "      <th>2</th>\n",
       "      <td>2</td>\n",
       "      <td>5</td>\n",
       "      <td>6</td>\n",
       "      <td>How can I increase the speed of my internet co...</td>\n",
       "      <td>How can Internet speed be increased by hacking...</td>\n",
       "      <td>0</td>\n",
       "      <td>1</td>\n",
       "      <td>1</td>\n",
       "      <td>73</td>\n",
       "      <td>59</td>\n",
       "      <td>14</td>\n",
       "      <td>10</td>\n",
       "      <td>4.0</td>\n",
       "      <td>24.0</td>\n",
       "      <td>0.166667</td>\n",
       "      <td>2</td>\n",
       "      <td>0</td>\n",
       "    </tr>\n",
       "    <tr>\n",
       "      <th>3</th>\n",
       "      <td>3</td>\n",
       "      <td>7</td>\n",
       "      <td>8</td>\n",
       "      <td>Why am I mentally very lonely? How can I solve...</td>\n",
       "      <td>Find the remainder when [math]23^{24}[/math] i...</td>\n",
       "      <td>0</td>\n",
       "      <td>1</td>\n",
       "      <td>1</td>\n",
       "      <td>50</td>\n",
       "      <td>65</td>\n",
       "      <td>11</td>\n",
       "      <td>9</td>\n",
       "      <td>0.0</td>\n",
       "      <td>19.0</td>\n",
       "      <td>0.000000</td>\n",
       "      <td>2</td>\n",
       "      <td>0</td>\n",
       "    </tr>\n",
       "    <tr>\n",
       "      <th>4</th>\n",
       "      <td>4</td>\n",
       "      <td>9</td>\n",
       "      <td>10</td>\n",
       "      <td>Which one dissolve in water quikly sugar, salt...</td>\n",
       "      <td>Which fish would survive in salt water?</td>\n",
       "      <td>0</td>\n",
       "      <td>3</td>\n",
       "      <td>1</td>\n",
       "      <td>76</td>\n",
       "      <td>39</td>\n",
       "      <td>13</td>\n",
       "      <td>7</td>\n",
       "      <td>2.0</td>\n",
       "      <td>20.0</td>\n",
       "      <td>0.100000</td>\n",
       "      <td>4</td>\n",
       "      <td>2</td>\n",
       "    </tr>\n",
       "  </tbody>\n",
       "</table>\n",
       "</div>"
      ],
      "text/plain": [
       "   id  qid1  qid2                                          question1  \\\n",
       "0   0     1     2  What is the step by step guide to invest in sh...   \n",
       "1   1     3     4  What is the story of Kohinoor (Koh-i-Noor) Dia...   \n",
       "2   2     5     6  How can I increase the speed of my internet co...   \n",
       "3   3     7     8  Why am I mentally very lonely? How can I solve...   \n",
       "4   4     9    10  Which one dissolve in water quikly sugar, salt...   \n",
       "\n",
       "                                           question2  is_duplicate  freq_q1  \\\n",
       "0  What is the step by step guide to invest in sh...             0        1   \n",
       "1  What would happen if the Indian government sto...             0        4   \n",
       "2  How can Internet speed be increased by hacking...             0        1   \n",
       "3  Find the remainder when [math]23^{24}[/math] i...             0        1   \n",
       "4            Which fish would survive in salt water?             0        3   \n",
       "\n",
       "   freq_q2  q1Len  q2Len  q1_n_words  q2_n_words  wordCommon  wordTotal  \\\n",
       "0        1     66     57          14          12        10.0       23.0   \n",
       "1        1     51     88           8          13         4.0       20.0   \n",
       "2        1     73     59          14          10         4.0       24.0   \n",
       "3        1     50     65          11           9         0.0       19.0   \n",
       "4        1     76     39          13           7         2.0       20.0   \n",
       "\n",
       "   wordShare  freq_q1+q2  freq_q1-q2  \n",
       "0   0.434783           2           0  \n",
       "1   0.200000           5           3  \n",
       "2   0.166667           2           0  \n",
       "3   0.000000           2           0  \n",
       "4   0.100000           4           2  "
      ]
     },
     "execution_count": 17,
     "metadata": {},
     "output_type": "execute_result"
    }
   ],
   "source": [
    "import os\n",
    "from os import path\n",
    "if os.path.isfile('Df_without_preprocessed_train.csv'):\n",
    "    df = pd.read_csv(\"Df_without_preprocessed_train.csv\",encoding = \"latin-1\")\n",
    "else:\n",
    "#     df = pd.read_csv(\"train.csv\")\n",
    "#     df = df.fillna(\"\")\n",
    "    df[\"freq_q1\"] = df.groupby('qid1')['qid1'].transform(\"count\")\n",
    "    df[\"freq_q2\"] = df.groupby('qid2')['qid2'].transform(\"count\")\n",
    "    df['q1Len'] = df[\"question1\"].str.len()\n",
    "    df['q2Len'] = df[\"question2\"].str.len()\n",
    "    df['q1_n_words'] = df['question1'].apply(lambda row: len(row.split(\" \")))\n",
    "    df['q2_n_words'] = df['question2'].apply(lambda row: len(row.split(\" \")))\n",
    "#     df['wordQ1'] = df['question1'].apply(lambda row: len(row.split(\" \")))\n",
    "#     df['wordQ2'] = df['question2'].apply(lambda row: len(row.split(\" \")))\n",
    "    \n",
    "    \n",
    "    def normalized_word_common(row):\n",
    "        w1 = set(map(lambda word : word.lower().strip(), row['question1'].split(' ')))\n",
    "        w2 = set(map(lambda word : word.lower().strip(), row['question2'].split(' ')))\n",
    "        return 1.0 * len(w1 & w2)\n",
    "    df['wordCommon'] = df.apply(normalized_word_common , axis = 1)\n",
    "    \n",
    "    def normalized_word_total(row):\n",
    "        w1 = set(map(lambda word : word.lower().strip(), row['question1'].split(' ')))\n",
    "        w2 = set(map(lambda word : word.lower().strip(), row['question2'].split(' ')))\n",
    "        return 1.0 * (len(w1) + len(w2))\n",
    "    df['wordTotal'] = df.apply(normalized_word_total , axis = 1)\n",
    "    \n",
    "    def normalized_word_share(row):\n",
    "        w1 = set(map(lambda word : word.lower().strip(), row['question1'].split(' ')))\n",
    "        w2 = set(map(lambda word : word.lower().strip(), row['question2'].split(' ')))\n",
    "        return 1.0 * len(w1 & w2)/(len(w1) + len(w2))\n",
    "    df['wordShare'] = df.apply(normalized_word_share , axis = 1)\n",
    "    \n",
    "    df['freq_q1+q2'] = df['freq_q1'] + df['freq_q2']\n",
    "    df['freq_q1-q2'] = abs(df['freq_q1'] - df['freq_q2'])\n",
    "    \n",
    "    df.to_csv('Df_without_preprocessed_train.csv', index = False)\n",
    "# df = df.fillna(\"\")\n",
    "df.head()        "
   ]
  },
  {
   "cell_type": "code",
   "execution_count": null,
   "id": "d3bd58a8",
   "metadata": {},
   "outputs": [],
   "source": []
  }
 ],
 "metadata": {
  "kernelspec": {
   "display_name": "Python 3 (ipykernel)",
   "language": "python",
   "name": "python3"
  },
  "language_info": {
   "codemirror_mode": {
    "name": "ipython",
    "version": 3
   },
   "file_extension": ".py",
   "mimetype": "text/x-python",
   "name": "python",
   "nbconvert_exporter": "python",
   "pygments_lexer": "ipython3",
   "version": "3.9.12"
  }
 },
 "nbformat": 4,
 "nbformat_minor": 5
}
